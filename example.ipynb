{
 "cells": [
  {
   "cell_type": "code",
   "execution_count": null,
   "id": "d780c421",
   "metadata": {},
   "outputs": [
    {
     "data": {
      "image/svg+xml": [
       "<svg xmlns=\"http://www.w3.org/2000/svg\" width=\"818\" height=\"100\"><style>\n",
       ".baseline {\n",
       "    white-space: pre-line;\n",
       "    dominant-baseline: central;\n",
       "}\n",
       ".name {\n",
       "    font-size: 14px;\n",
       "    font-family: sans-serif;\n",
       "    color: black;\n",
       "    text-anchor: middle;\n",
       "}\n",
       ".msb {\n",
       "    font-size: 12px;\n",
       "    font-family: sans-serif;\n",
       "    color: black;\n",
       "    text-anchor: start;\n",
       "}\n",
       ".lsb {\n",
       "    font-size: 12px;\n",
       "    font-family: sans-serif;\n",
       "    color: black;\n",
       "    text-anchor: end;\n",
       "}\n",
       ".width {\n",
       "    font-size: 12px;\n",
       "    font-family: sans-serif;\n",
       "    color: black;\n",
       "    text-anchor: middle;\n",
       "}\n",
       ".left_annotation {\n",
       "    font-size: 12px;\n",
       "    font-family: sans-serif;\n",
       "    color: black;\n",
       "    text-anchor: end;\n",
       "}\n",
       ".right_annotation {\n",
       "    font-size: 12px\n",
       "    font-family: sans-serif;\n",
       "    color: black;\n",
       "    text-anchor: start;\n",
       "}\n",
       "</style><defs><pattern id=\"hatching\" patternUnits=\"userSpaceOnUse\" patternTransform=\"rotate(45 0 0)\" width=\"5\" height=\"5\"><line stroke=\"black\" stroke-width=\"1\" x1=\"0\" y1=\"0\" x2=\"0\" y2=\"5\"/></pattern></defs><text class=\"baseline left_annotation\" x=\"138\" y=\"50\">PingPongPayload</text><rect x=\"148\" y=\"30\" width=\"20\" height=\"40\" fill=\"#EEE\"/><rect x=\"168\" y=\"30\" width=\"20\" height=\"40\" fill=\"#EEE\"/><rect x=\"188\" y=\"30\" width=\"20\" height=\"40\" fill=\"#EEE\"/><rect x=\"208\" y=\"30\" width=\"20\" height=\"40\" fill=\"#EEE\"/><rect x=\"228\" y=\"30\" width=\"20\" height=\"40\" fill=\"#FFF\"/><rect x=\"248\" y=\"30\" width=\"20\" height=\"40\" fill=\"#FFF\"/><rect x=\"268\" y=\"30\" width=\"20\" height=\"40\" fill=\"#FFF\"/><rect x=\"288\" y=\"30\" width=\"20\" height=\"40\" fill=\"#FFF\"/><path stroke=\"black\" stroke-width=\"1\" d=\"M 308 70 L 148 70 L 148 30 L 308 30\" fill=\"transparent\"/><text class=\"baseline name\" x=\"228\" y=\"50\">source_id</text><text class=\"baseline msb\" x=\"151\" y=\"18\">31</text><text class=\"baseline lsb\" x=\"305\" y=\"18\">24</text><text class=\"baseline width\" x=\"228\" y=\"84\">8</text><line stroke=\"black\" stroke-width=\"1\" x1=\"168\" y1=\"30\" x2=\"168\" y2=\"35\"/><line stroke=\"black\" stroke-width=\"1\" x1=\"168\" y1=\"65\" x2=\"168\" y2=\"70\"/><line stroke=\"black\" stroke-width=\"1\" x1=\"188\" y1=\"30\" x2=\"188\" y2=\"35\"/><line stroke=\"black\" stroke-width=\"1\" x1=\"188\" y1=\"65\" x2=\"188\" y2=\"70\"/><line stroke=\"black\" stroke-width=\"1\" x1=\"208\" y1=\"30\" x2=\"208\" y2=\"35\"/><line stroke=\"black\" stroke-width=\"1\" x1=\"208\" y1=\"65\" x2=\"208\" y2=\"70\"/><line stroke=\"black\" stroke-width=\"1\" x1=\"228\" y1=\"30\" x2=\"228\" y2=\"35\"/><line stroke=\"black\" stroke-width=\"1\" x1=\"228\" y1=\"65\" x2=\"228\" y2=\"70\"/><line stroke=\"black\" stroke-width=\"1\" x1=\"248\" y1=\"30\" x2=\"248\" y2=\"35\"/><line stroke=\"black\" stroke-width=\"1\" x1=\"248\" y1=\"65\" x2=\"248\" y2=\"70\"/><line stroke=\"black\" stroke-width=\"1\" x1=\"268\" y1=\"30\" x2=\"268\" y2=\"35\"/><line stroke=\"black\" stroke-width=\"1\" x1=\"268\" y1=\"65\" x2=\"268\" y2=\"70\"/><line stroke=\"black\" stroke-width=\"1\" x1=\"288\" y1=\"30\" x2=\"288\" y2=\"35\"/><line stroke=\"black\" stroke-width=\"1\" x1=\"288\" y1=\"65\" x2=\"288\" y2=\"70\"/><rect x=\"308\" y=\"30\" width=\"20\" height=\"40\" fill=\"#EEE\"/><path stroke=\"black\" stroke-width=\"1\" d=\"M 328 70 L 308 70 L 308 30 L 328 30\" fill=\"transparent\"/><text class=\"baseline name\" x=\"318\" y=\"50\">is</text><text class=\"baseline msb\" x=\"311\" y=\"18\">23</text><text class=\"baseline lsb\" x=\"325\" y=\"18\">23</text><text class=\"baseline width\" x=\"318\" y=\"84\">1</text><rect x=\"328\" y=\"30\" width=\"20\" height=\"40\" fill=\"#EEE\"/><rect x=\"348\" y=\"30\" width=\"20\" height=\"40\" fill=\"#EEE\"/><rect x=\"368\" y=\"30\" width=\"20\" height=\"40\" fill=\"#EEE\"/><rect x=\"388\" y=\"30\" width=\"20\" height=\"40\" fill=\"#FFF\"/><rect x=\"408\" y=\"30\" width=\"20\" height=\"40\" fill=\"#FFF\"/><rect x=\"428\" y=\"30\" width=\"20\" height=\"40\" fill=\"#FFF\"/><rect x=\"448\" y=\"30\" width=\"20\" height=\"40\" fill=\"#FFF\"/><rect x=\"468\" y=\"30\" width=\"20\" height=\"40\" fill=\"#EEE\"/><rect x=\"488\" y=\"30\" width=\"20\" height=\"40\" fill=\"#EEE\"/><rect x=\"508\" y=\"30\" width=\"20\" height=\"40\" fill=\"#EEE\"/><rect x=\"528\" y=\"30\" width=\"20\" height=\"40\" fill=\"#EEE\"/><rect x=\"548\" y=\"30\" width=\"20\" height=\"40\" fill=\"#FFF\"/><rect x=\"568\" y=\"30\" width=\"20\" height=\"40\" fill=\"#FFF\"/><rect x=\"588\" y=\"30\" width=\"20\" height=\"40\" fill=\"#FFF\"/><rect x=\"608\" y=\"30\" width=\"20\" height=\"40\" fill=\"#FFF\"/><path stroke=\"black\" stroke-width=\"1\" d=\"M 628 70 L 328 70 L 328 30 L 628 30\" fill=\"transparent\"/><text class=\"baseline name\" x=\"478\" y=\"50\">ping_value</text><text class=\"baseline msb\" x=\"331\" y=\"18\">22</text><text class=\"baseline lsb\" x=\"625\" y=\"18\">8</text><text class=\"baseline width\" x=\"478\" y=\"84\">15</text><line stroke=\"black\" stroke-width=\"1\" x1=\"348\" y1=\"30\" x2=\"348\" y2=\"35\"/><line stroke=\"black\" stroke-width=\"1\" x1=\"348\" y1=\"65\" x2=\"348\" y2=\"70\"/><line stroke=\"black\" stroke-width=\"1\" x1=\"368\" y1=\"30\" x2=\"368\" y2=\"35\"/><line stroke=\"black\" stroke-width=\"1\" x1=\"368\" y1=\"65\" x2=\"368\" y2=\"70\"/><line stroke=\"black\" stroke-width=\"1\" x1=\"388\" y1=\"30\" x2=\"388\" y2=\"35\"/><line stroke=\"black\" stroke-width=\"1\" x1=\"388\" y1=\"65\" x2=\"388\" y2=\"70\"/><line stroke=\"black\" stroke-width=\"1\" x1=\"408\" y1=\"30\" x2=\"408\" y2=\"35\"/><line stroke=\"black\" stroke-width=\"1\" x1=\"408\" y1=\"65\" x2=\"408\" y2=\"70\"/><line stroke=\"black\" stroke-width=\"1\" x1=\"428\" y1=\"30\" x2=\"428\" y2=\"35\"/><line stroke=\"black\" stroke-width=\"1\" x1=\"428\" y1=\"65\" x2=\"428\" y2=\"70\"/><line stroke=\"black\" stroke-width=\"1\" x1=\"448\" y1=\"30\" x2=\"448\" y2=\"35\"/><line stroke=\"black\" stroke-width=\"1\" x1=\"448\" y1=\"65\" x2=\"448\" y2=\"70\"/><line stroke=\"black\" stroke-width=\"1\" x1=\"468\" y1=\"30\" x2=\"468\" y2=\"35\"/><line stroke=\"black\" stroke-width=\"1\" x1=\"468\" y1=\"65\" x2=\"468\" y2=\"70\"/><line stroke=\"black\" stroke-width=\"1\" x1=\"488\" y1=\"30\" x2=\"488\" y2=\"35\"/><line stroke=\"black\" stroke-width=\"1\" x1=\"488\" y1=\"65\" x2=\"488\" y2=\"70\"/><line stroke=\"black\" stroke-width=\"1\" x1=\"508\" y1=\"30\" x2=\"508\" y2=\"35\"/><line stroke=\"black\" stroke-width=\"1\" x1=\"508\" y1=\"65\" x2=\"508\" y2=\"70\"/><line stroke=\"black\" stroke-width=\"1\" x1=\"528\" y1=\"30\" x2=\"528\" y2=\"35\"/><line stroke=\"black\" stroke-width=\"1\" x1=\"528\" y1=\"65\" x2=\"528\" y2=\"70\"/><line stroke=\"black\" stroke-width=\"1\" x1=\"548\" y1=\"30\" x2=\"548\" y2=\"35\"/><line stroke=\"black\" stroke-width=\"1\" x1=\"548\" y1=\"65\" x2=\"548\" y2=\"70\"/><line stroke=\"black\" stroke-width=\"1\" x1=\"568\" y1=\"30\" x2=\"568\" y2=\"35\"/><line stroke=\"black\" stroke-width=\"1\" x1=\"568\" y1=\"65\" x2=\"568\" y2=\"70\"/><line stroke=\"black\" stroke-width=\"1\" x1=\"588\" y1=\"30\" x2=\"588\" y2=\"35\"/><line stroke=\"black\" stroke-width=\"1\" x1=\"588\" y1=\"65\" x2=\"588\" y2=\"70\"/><line stroke=\"black\" stroke-width=\"1\" x1=\"608\" y1=\"30\" x2=\"608\" y2=\"35\"/><line stroke=\"black\" stroke-width=\"1\" x1=\"608\" y1=\"65\" x2=\"608\" y2=\"70\"/><rect x=\"628\" y=\"30\" width=\"20\" height=\"40\" fill=\"#EEE\"/><rect x=\"648\" y=\"30\" width=\"20\" height=\"40\" fill=\"#EEE\"/><rect x=\"668\" y=\"30\" width=\"20\" height=\"40\" fill=\"#EEE\"/><rect x=\"688\" y=\"30\" width=\"20\" height=\"40\" fill=\"#EEE\"/><rect x=\"708\" y=\"30\" width=\"20\" height=\"40\" fill=\"#FFF\"/><rect x=\"728\" y=\"30\" width=\"20\" height=\"40\" fill=\"#FFF\"/><rect x=\"748\" y=\"30\" width=\"20\" height=\"40\" fill=\"#FFF\"/><rect x=\"768\" y=\"30\" width=\"20\" height=\"40\" fill=\"#FFF\"/><path stroke=\"black\" stroke-width=\"1\" d=\"M 788 70 L 628 70 L 628 30 L 788 30 L 788 70\" fill=\"transparent\"/><text class=\"baseline name\" x=\"708\" y=\"50\">timestamp</text><text class=\"baseline msb\" x=\"631\" y=\"18\">7</text><text class=\"baseline lsb\" x=\"785\" y=\"18\">0</text><text class=\"baseline width\" x=\"708\" y=\"84\">8</text><line stroke=\"black\" stroke-width=\"1\" x1=\"648\" y1=\"30\" x2=\"648\" y2=\"35\"/><line stroke=\"black\" stroke-width=\"1\" x1=\"648\" y1=\"65\" x2=\"648\" y2=\"70\"/><line stroke=\"black\" stroke-width=\"1\" x1=\"668\" y1=\"30\" x2=\"668\" y2=\"35\"/><line stroke=\"black\" stroke-width=\"1\" x1=\"668\" y1=\"65\" x2=\"668\" y2=\"70\"/><line stroke=\"black\" stroke-width=\"1\" x1=\"688\" y1=\"30\" x2=\"688\" y2=\"35\"/><line stroke=\"black\" stroke-width=\"1\" x1=\"688\" y1=\"65\" x2=\"688\" y2=\"70\"/><line stroke=\"black\" stroke-width=\"1\" x1=\"708\" y1=\"30\" x2=\"708\" y2=\"35\"/><line stroke=\"black\" stroke-width=\"1\" x1=\"708\" y1=\"65\" x2=\"708\" y2=\"70\"/><line stroke=\"black\" stroke-width=\"1\" x1=\"728\" y1=\"30\" x2=\"728\" y2=\"35\"/><line stroke=\"black\" stroke-width=\"1\" x1=\"728\" y1=\"65\" x2=\"728\" y2=\"70\"/><line stroke=\"black\" stroke-width=\"1\" x1=\"748\" y1=\"30\" x2=\"748\" y2=\"35\"/><line stroke=\"black\" stroke-width=\"1\" x1=\"748\" y1=\"65\" x2=\"748\" y2=\"70\"/><line stroke=\"black\" stroke-width=\"1\" x1=\"768\" y1=\"30\" x2=\"768\" y2=\"35\"/><line stroke=\"black\" stroke-width=\"1\" x1=\"768\" y1=\"65\" x2=\"768\" y2=\"70\"/></svg>"
      ],
      "text/plain": [
       "PingPongPayload: 0x0\n",
       " - [31:24] source_id  = 0x0\n",
       " - [23:23] is_pong    = 0x0\n",
       " - [22: 8] ping_value = 0x0\n",
       " - [ 7: 0] timestamp  = 0x0"
      ]
     },
     "execution_count": 1,
     "metadata": {},
     "output_type": "execute_result"
    }
   ],
   "source": [
    "import packtype\n",
    "from packtype import Packing, Scalar\n",
    "\n",
    "@packtype.package()\n",
    "class DecoderPkg:\n",
    "    pass\n",
    "\n",
    "@DecoderPkg.struct(packing=Packing.FROM_MSB, width=32)\n",
    "class PingPongPayload:\n",
    "    \"\"\" Payload of a ping-pong keepalive message \"\"\"\n",
    "    source_id  : Scalar[ 8]\n",
    "    is_pong    : Scalar[ 1]\n",
    "    ping_value : Scalar[15]\n",
    "    timestamp  : Scalar[ 8]\n",
    "\n",
    "# Render as an SVG\n",
    "PingPongPayload()"
   ]
  }
 ],
 "metadata": {
  "kernelspec": {
   "display_name": "venv",
   "language": "python",
   "name": "python3"
  },
  "language_info": {
   "codemirror_mode": {
    "name": "ipython",
    "version": 3
   },
   "file_extension": ".py",
   "mimetype": "text/x-python",
   "name": "python",
   "nbconvert_exporter": "python",
   "pygments_lexer": "ipython3",
   "version": "3.13.4"
  }
 },
 "nbformat": 4,
 "nbformat_minor": 5
}
